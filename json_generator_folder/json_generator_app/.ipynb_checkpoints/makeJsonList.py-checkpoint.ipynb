{
 "cells": [
  {
   "cell_type": "code",
   "execution_count": 1,
   "metadata": {
    "collapsed": true
   },
   "outputs": [],
   "source": [
    "def makeJsonList(data):\n",
    "    f = open(\"./json_list.json\", 'w')\n",
    "    for i in range(1, data['total']):\n",
    "        data = \"%d번째 줄입니다.\\n\" % i\n",
    "        f.write(data)\n",
    "    f.close()\n"
   ]
  },
  {
   "cell_type": "code",
   "execution_count": 9,
   "metadata": {
    "collapsed": true
   },
   "outputs": [],
   "source": [
    "import os\n",
    "from django.conf import settings\n",
    "from django.http import HttpResponse\n",
    "\n",
    "def download(path):\n",
    "    file_path = os.path.join('/media/ymmu/Dr.Mu/python_study/jangopractice/json_generator_folder', path)\n",
    "    if os.path.exists(file_path):\n",
    "        with open(file_path, 'rb') as fh:\n",
    "            response = HttpResponse(fh.read(), content_type=\"application/vnd.ms-excel\")\n",
    "            response['Content-Disposition'] = 'inline; filename=' + os.path.basename(file_path)\n",
    "            return response\n",
    "    raise Http404"
   ]
  },
  {
   "cell_type": "code",
   "execution_count": 13,
   "metadata": {
    "collapsed": false
   },
   "outputs": [
    {
     "data": {
      "text/plain": [
       "True"
      ]
     },
     "execution_count": 13,
     "metadata": {},
     "output_type": "execute_result"
    }
   ],
   "source": [
    "file_path = os.path.join('/media/ymmu/Dr.Mu/python_study/jangopractice/json_generator_folder/', 'json_list.json')\n",
    "os.path.exists(file_path)"
   ]
  },
  {
   "cell_type": "code",
   "execution_count": 15,
   "metadata": {
    "collapsed": false
   },
   "outputs": [
    {
     "data": {
      "text/plain": [
       "'json_list.json'"
      ]
     },
     "execution_count": 15,
     "metadata": {},
     "output_type": "execute_result"
    }
   ],
   "source": [
    "os.path.basename(file_path)"
   ]
  },
  {
   "cell_type": "code",
   "execution_count": 18,
   "metadata": {
    "collapsed": false
   },
   "outputs": [
    {
     "ename": "NameError",
     "evalue": "name 'path' is not defined",
     "output_type": "error",
     "traceback": [
      "\u001b[0;31m---------------------------------------------------------------------------\u001b[0m",
      "\u001b[0;31mNameError\u001b[0m                                 Traceback (most recent call last)",
      "\u001b[0;32m<ipython-input-18-a8b4d0afbf5b>\u001b[0m in \u001b[0;36m<module>\u001b[0;34m()\u001b[0m\n\u001b[1;32m      1\u001b[0m \u001b[0;32mimport\u001b[0m \u001b[0mzipfile\u001b[0m\u001b[0;34m\u001b[0m\u001b[0m\n\u001b[0;32m----> 2\u001b[0;31m \u001b[0mfile_path\u001b[0m \u001b[0;34m=\u001b[0m \u001b[0mos\u001b[0m\u001b[0;34m.\u001b[0m\u001b[0mpath\u001b[0m\u001b[0;34m.\u001b[0m\u001b[0mjoin\u001b[0m\u001b[0;34m(\u001b[0m\u001b[0;34m'/media/ymmu/Dr.Mu/python_study/jangopractice/json_generator_folder/json_generator_app/'\u001b[0m\u001b[0;34m,\u001b[0m \u001b[0mpath\u001b[0m\u001b[0;34m)\u001b[0m\u001b[0;34m\u001b[0m\u001b[0m\n\u001b[0m\u001b[1;32m      3\u001b[0m \u001b[0mjungle_zip\u001b[0m \u001b[0;34m=\u001b[0m \u001b[0mzipfile\u001b[0m\u001b[0;34m.\u001b[0m\u001b[0mZipFile\u001b[0m\u001b[0;34m(\u001b[0m\u001b[0mfile_path\u001b[0m\u001b[0;34m+\u001b[0m\u001b[0;34m'.zip'\u001b[0m\u001b[0;34m,\u001b[0m \u001b[0;34m'a'\u001b[0m\u001b[0;34m)\u001b[0m\u001b[0;34m\u001b[0m\u001b[0m\n\u001b[1;32m      4\u001b[0m \u001b[0mjungle_zip\u001b[0m\u001b[0;34m.\u001b[0m\u001b[0mwrite\u001b[0m\u001b[0;34m(\u001b[0m\u001b[0mpath\u001b[0m\u001b[0;34m,\u001b[0m \u001b[0mcompress_type\u001b[0m\u001b[0;34m=\u001b[0m\u001b[0mzipfile\u001b[0m\u001b[0;34m.\u001b[0m\u001b[0mZIP_DEFLATED\u001b[0m\u001b[0;34m)\u001b[0m\u001b[0;34m\u001b[0m\u001b[0m\n\u001b[1;32m      5\u001b[0m \u001b[0mjungle_zip\u001b[0m\u001b[0;34m.\u001b[0m\u001b[0mclose\u001b[0m\u001b[0;34m(\u001b[0m\u001b[0;34m)\u001b[0m\u001b[0;34m\u001b[0m\u001b[0m\n",
      "\u001b[0;31mNameError\u001b[0m: name 'path' is not defined"
     ]
    }
   ],
   "source": [
    "import zipfile\n",
    "path = 'json_list.json'\n",
    "file_path = os.path.join('/media/ymmu/Dr.Mu/python_study/jangopractice/json_generator_folder/json_generator_app/', path)\n",
    "jungle_zip = zipfile.ZipFile(file_path+'.zip', 'a')\n",
    "jungle_zip.write(path, compress_type=zipfile.ZIP_DEFLATED)\n",
    "jungle_zip.close()\n",
    "response = HttpResponse()\n",
    "if os.path.exists(file_path):\n",
    "    #with open(file_path, 'rb') as fh:\n",
    "    with zipfile.ZipFile(file_path+'.zip', mode='r') as fh:\n",
    "        #response = HttpResponse(fh.read(), content_type=\"application/zip\")\n",
    "        #response = HttpResponse(content_type=\"application/zip\")\n",
    "    #path_to_zip = make_archive(file_path,\"zip\",file_path)\n",
    "        response = HttpResponse(content_type='application/zip')\n",
    "        response['Content-Disposition'] = 'attachment; filename=' + path +'.zip'\n",
    "        response.write(fh.read(path))"
   ]
  },
  {
   "cell_type": "code",
   "execution_count": null,
   "metadata": {
    "collapsed": true
   },
   "outputs": [],
   "source": []
  }
 ],
 "metadata": {
  "anaconda-cloud": {},
  "kernelspec": {
   "display_name": "Python [conda env:jangopractice]",
   "language": "python",
   "name": "conda-env-jangopractice-py"
  },
  "language_info": {
   "codemirror_mode": {
    "name": "ipython",
    "version": 3
   },
   "file_extension": ".py",
   "mimetype": "text/x-python",
   "name": "python",
   "nbconvert_exporter": "python",
   "pygments_lexer": "ipython3",
   "version": "3.6.3"
  }
 },
 "nbformat": 4,
 "nbformat_minor": 1
}
